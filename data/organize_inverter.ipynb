{
 "cells": [
  {
   "cell_type": "code",
   "execution_count": 26,
   "id": "initial_id",
   "metadata": {
    "collapsed": true,
    "ExecuteTime": {
     "end_time": "2023-10-22T15:30:15.482671900Z",
     "start_time": "2023-10-22T15:30:15.482671900Z"
    }
   },
   "outputs": [],
   "source": [
    "import pvlib\n",
    "import json\n",
    "from collections import Counter"
   ]
  },
  {
   "cell_type": "code",
   "execution_count": 27,
   "outputs": [],
   "source": [
    "inverter = pvlib.pvsystem.retrieve_sam(\n",
    "            \"CECinverter\", path=\"CEC Inverters.csv\"\n",
    "        )"
   ],
   "metadata": {
    "collapsed": false,
    "ExecuteTime": {
     "end_time": "2023-10-22T15:30:15.760622100Z",
     "start_time": "2023-10-22T15:30:15.727605200Z"
    }
   },
   "id": "57d53670986f126c"
  },
  {
   "cell_type": "code",
   "execution_count": 28,
   "outputs": [],
   "source": [
    "names_split = [name.split(\"_\") for name in inverter.keys()]\n",
    "occurences = Counter([part for parts_list in names_split for part in parts_list])"
   ],
   "metadata": {
    "collapsed": false,
    "ExecuteTime": {
     "end_time": "2023-10-22T15:30:16.010144100Z",
     "start_time": "2023-10-22T15:30:15.995357200Z"
    }
   },
   "id": "e7ec7c93aa585f39"
  },
  {
   "cell_type": "code",
   "execution_count": 30,
   "outputs": [],
   "source": [
    "inverter_database = {}\n",
    "for i, name_split in enumerate(names_split):\n",
    "    name_split_no_empty = [part for part in name_split if part != \"\"]\n",
    "    manufacturer = name_split_no_empty[0]\n",
    "    series = \"\"\n",
    "    model = name_split_no_empty[-1]\n",
    "    \n",
    "    left_over_parts =  name_split_no_empty[1:-1]\n",
    "    while len(left_over_parts) > 0:\n",
    "        if len(left_over_parts) == 1 and series == \"\": # series\n",
    "            series = left_over_parts.pop(0)\n",
    "        elif occurences[left_over_parts[0]] > 1 and not any([c.isdigit() for c in left_over_parts[0]]): #manufacturer\n",
    "            manufacturer += \" \" + left_over_parts.pop(0)\n",
    "        elif occurences[left_over_parts[-1]] == 1: # model\n",
    "            model = left_over_parts.pop(-1) + \" \" + model\n",
    "        else: # series\n",
    "            if series != \"\":\n",
    "                series += \" \" + left_over_parts.pop(0)\n",
    "            else:\n",
    "                series = left_over_parts.pop(0)\n",
    "    if manufacturer not in inverter_database:\n",
    "        inverter_database[manufacturer] = {}\n",
    "    if series not in inverter_database[manufacturer]:\n",
    "        inverter_database[manufacturer][series] = {}\n",
    "    inverter_database[manufacturer][series][model] = inverter[\"_\".join(name_split)].to_dict()"
   ],
   "metadata": {
    "collapsed": false,
    "ExecuteTime": {
     "end_time": "2023-10-22T15:30:42.894890100Z",
     "start_time": "2023-10-22T15:30:42.535165Z"
    }
   },
   "id": "c8edb6ad86e72e29"
  },
  {
   "cell_type": "code",
   "execution_count": 33,
   "outputs": [
    {
     "data": {
      "text/plain": "{'Vac': '208',\n 'Pso': 20.301853,\n 'Paco': 10100.0,\n 'Pdco': 10452.24707,\n 'Vdco': 345.0,\n 'C0': -2.961646e-06,\n 'C1': -4.789613e-06,\n 'C2': -0.000714,\n 'C3': -0.001077,\n 'Pnt': 3.03,\n 'Vdcmax': 480.0,\n 'Idcmax': 30.296368,\n 'Mppt_low': 100.0,\n 'Mppt_high': 480.0,\n 'CEC_Date': nan,\n 'CEC_Type': 'Utility Interactive'}"
     },
     "execution_count": 33,
     "metadata": {},
     "output_type": "execute_result"
    }
   ],
   "source": [
    "inverter_database[\"SMA America US\"][\"SB10000TL\"][\"208V\"]"
   ],
   "metadata": {
    "collapsed": false,
    "ExecuteTime": {
     "end_time": "2023-10-22T15:31:21.947985100Z",
     "start_time": "2023-10-22T15:31:21.940789500Z"
    }
   },
   "id": "304d3bd516037479"
  },
  {
   "cell_type": "code",
   "execution_count": 31,
   "outputs": [],
   "source": [
    "with open(\"G:/projects/solar-power-estimator/data/inverter_database.json\", \"w\") as f:\n",
    "    json.dump(inverter_database, f)"
   ],
   "metadata": {
    "collapsed": false,
    "ExecuteTime": {
     "end_time": "2023-10-22T15:30:51.246192100Z",
     "start_time": "2023-10-22T15:30:51.040233300Z"
    }
   },
   "id": "8e539f6b2f448c42"
  },
  {
   "cell_type": "code",
   "execution_count": null,
   "outputs": [],
   "source": [],
   "metadata": {
    "collapsed": false
   },
   "id": "52a3918745014987"
  }
 ],
 "metadata": {
  "kernelspec": {
   "display_name": "Python 3",
   "language": "python",
   "name": "python3"
  },
  "language_info": {
   "codemirror_mode": {
    "name": "ipython",
    "version": 2
   },
   "file_extension": ".py",
   "mimetype": "text/x-python",
   "name": "python",
   "nbconvert_exporter": "python",
   "pygments_lexer": "ipython2",
   "version": "2.7.6"
  }
 },
 "nbformat": 4,
 "nbformat_minor": 5
}
