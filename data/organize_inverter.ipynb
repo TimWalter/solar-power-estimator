{
 "cells": [
  {
   "cell_type": "code",
   "execution_count": 1,
   "id": "initial_id",
   "metadata": {
    "collapsed": true,
    "ExecuteTime": {
     "end_time": "2023-10-23T15:36:50.004732500Z",
     "start_time": "2023-10-23T15:36:48.314738500Z"
    }
   },
   "outputs": [],
   "source": [
    "import pvlib\n",
    "import json\n",
    "from collections import Counter"
   ]
  },
  {
   "cell_type": "code",
   "execution_count": 2,
   "outputs": [],
   "source": [
    "inverter = pvlib.pvsystem.retrieve_sam(\n",
    "            \"CECinverter\", path=\"CEC Inverters.csv\"\n",
    "        )"
   ],
   "metadata": {
    "collapsed": false,
    "ExecuteTime": {
     "end_time": "2023-10-23T15:36:50.044744200Z",
     "start_time": "2023-10-23T15:36:50.005728800Z"
    }
   },
   "id": "57d53670986f126c"
  },
  {
   "cell_type": "code",
   "execution_count": 3,
   "outputs": [],
   "source": [
    "names_split = [name.split(\"_\") for name in inverter.keys()]\n",
    "occurences = Counter([part for parts_list in names_split for part in parts_list])"
   ],
   "metadata": {
    "collapsed": false,
    "ExecuteTime": {
     "end_time": "2023-10-23T15:36:50.067913200Z",
     "start_time": "2023-10-23T15:36:50.045744Z"
    }
   },
   "id": "e7ec7c93aa585f39"
  },
  {
   "cell_type": "code",
   "execution_count": 4,
   "outputs": [],
   "source": [
    "inverter_database = {}\n",
    "for i, name_split in enumerate(names_split):\n",
    "    name_split_no_empty = [part for part in name_split if part != \"\"]\n",
    "    manufacturer = name_split_no_empty[0]\n",
    "    series = \"\"\n",
    "    model = name_split_no_empty[-1]\n",
    "    \n",
    "    left_over_parts =  name_split_no_empty[1:-1]\n",
    "    while len(left_over_parts) > 0:\n",
    "        if len(left_over_parts) == 1 and series == \"\": # series\n",
    "            series = left_over_parts.pop(0)\n",
    "        elif occurences[left_over_parts[0]] > 1 and not any([c.isdigit() for c in left_over_parts[0]]): #manufacturer\n",
    "            manufacturer += \" \" + left_over_parts.pop(0)\n",
    "        elif occurences[left_over_parts[-1]] == 1: # model\n",
    "            model = left_over_parts.pop(-1) + \" \" + model\n",
    "        else: # series\n",
    "            if series != \"\":\n",
    "                series += \" \" + left_over_parts.pop(0)\n",
    "            else:\n",
    "                series = left_over_parts.pop(0)\n",
    "    if manufacturer not in inverter_database:\n",
    "        inverter_database[manufacturer] = {}\n",
    "    if series not in inverter_database[manufacturer]:\n",
    "        inverter_database[manufacturer][series] = {}\n",
    "    inverter_database[manufacturer][series][model] = {k:v if v != \"NaN\" else None for k,v in inverter[\"_\".join(name_split)].to_dict().items()}"
   ],
   "metadata": {
    "collapsed": false,
    "ExecuteTime": {
     "end_time": "2023-10-23T15:36:50.597482300Z",
     "start_time": "2023-10-23T15:36:50.069913Z"
    }
   },
   "id": "c8edb6ad86e72e29"
  },
  {
   "cell_type": "code",
   "execution_count": 5,
   "outputs": [
    {
     "data": {
      "text/plain": "{'Vac': '208',\n 'Pso': 20.301853,\n 'Paco': 10100.0,\n 'Pdco': 10452.24707,\n 'Vdco': 345.0,\n 'C0': -2.961646e-06,\n 'C1': -4.789613e-06,\n 'C2': -0.000714,\n 'C3': -0.001077,\n 'Pnt': 3.03,\n 'Vdcmax': 480.0,\n 'Idcmax': 30.296368,\n 'Mppt_low': 100.0,\n 'Mppt_high': 480.0,\n 'CEC_Date': nan,\n 'CEC_Type': 'Utility Interactive'}"
     },
     "execution_count": 5,
     "metadata": {},
     "output_type": "execute_result"
    }
   ],
   "source": [
    "inverter_database[\"SMA America US\"][\"SB10000TL\"][\"208V\"]"
   ],
   "metadata": {
    "collapsed": false,
    "ExecuteTime": {
     "end_time": "2023-10-23T15:36:50.620823500Z",
     "start_time": "2023-10-23T15:36:50.602482600Z"
    }
   },
   "id": "304d3bd516037479"
  },
  {
   "cell_type": "code",
   "execution_count": 6,
   "outputs": [],
   "source": [
    "with open(\"G:/projects/solar-power-estimator/data/inverter_database.json\", \"w\") as f:\n",
    "    json.dump(inverter_database, f, indent=2)"
   ],
   "metadata": {
    "collapsed": false,
    "ExecuteTime": {
     "end_time": "2023-10-23T15:36:50.865139200Z",
     "start_time": "2023-10-23T15:36:50.612825500Z"
    }
   },
   "id": "8e539f6b2f448c42"
  },
  {
   "cell_type": "code",
   "execution_count": 6,
   "outputs": [],
   "source": [],
   "metadata": {
    "collapsed": false,
    "ExecuteTime": {
     "end_time": "2023-10-23T15:36:50.878241500Z",
     "start_time": "2023-10-23T15:36:50.867246400Z"
    }
   },
   "id": "52a3918745014987"
  }
 ],
 "metadata": {
  "kernelspec": {
   "display_name": "Python 3",
   "language": "python",
   "name": "python3"
  },
  "language_info": {
   "codemirror_mode": {
    "name": "ipython",
    "version": 2
   },
   "file_extension": ".py",
   "mimetype": "text/x-python",
   "name": "python",
   "nbconvert_exporter": "python",
   "pygments_lexer": "ipython2",
   "version": "2.7.6"
  }
 },
 "nbformat": 4,
 "nbformat_minor": 5
}
