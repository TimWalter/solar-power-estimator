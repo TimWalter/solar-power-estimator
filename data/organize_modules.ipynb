{
 "cells": [
  {
   "cell_type": "code",
   "execution_count": 1,
   "id": "initial_id",
   "metadata": {
    "collapsed": true,
    "ExecuteTime": {
     "end_time": "2023-10-22T15:20:05.214114Z",
     "start_time": "2023-10-22T15:20:00.415942600Z"
    }
   },
   "outputs": [],
   "source": [
    "import pvlib\n",
    "import json\n",
    "from collections import Counter"
   ]
  },
  {
   "cell_type": "code",
   "execution_count": 2,
   "outputs": [],
   "source": [
    "modules = pvlib.pvsystem.retrieve_sam(\n",
    "            \"CECMod\", path=\"CEC Modules.csv\"\n",
    "        )"
   ],
   "metadata": {
    "collapsed": false,
    "ExecuteTime": {
     "end_time": "2023-10-22T15:20:05.395220400Z",
     "start_time": "2023-10-22T15:20:05.217113500Z"
    }
   },
   "id": "8a3d8c0dae088afa"
  },
  {
   "cell_type": "code",
   "execution_count": 3,
   "outputs": [],
   "source": [
    "names_split = [name.split(\"_\") for name in modules.keys()]"
   ],
   "metadata": {
    "collapsed": false,
    "ExecuteTime": {
     "end_time": "2023-10-22T15:20:05.434110400Z",
     "start_time": "2023-10-22T15:20:05.395220400Z"
    }
   },
   "id": "803203c18696f30e"
  },
  {
   "cell_type": "code",
   "execution_count": 4,
   "outputs": [],
   "source": [
    "occurences = Counter([part for parts_list in names_split for part in parts_list])"
   ],
   "metadata": {
    "collapsed": false,
    "ExecuteTime": {
     "end_time": "2023-10-22T15:20:05.466178500Z",
     "start_time": "2023-10-22T15:20:05.434110400Z"
    }
   },
   "id": "9367ad7504390e5d"
  },
  {
   "cell_type": "code",
   "execution_count": 25,
   "outputs": [],
   "source": [
    "panel_database = {}\n",
    "for i, name_split in enumerate(names_split):\n",
    "    name_split_no_empty = [part for part in name_split if part != \"\"]\n",
    "    manufacturer = name_split_no_empty[0]\n",
    "    series = \"\"\n",
    "    model = name_split_no_empty[-1]\n",
    "    \n",
    "    left_over_parts =  name_split_no_empty[1:-1]\n",
    "    while len(left_over_parts) > 0:\n",
    "        if len(left_over_parts) == 1 and series == \"\": # series\n",
    "            series = left_over_parts.pop(0)\n",
    "        elif occurences[left_over_parts[0]] > 1 and not any([c.isdigit() for c in left_over_parts[0]]): #manufacturer\n",
    "            manufacturer += \" \" + left_over_parts.pop(0)\n",
    "        elif occurences[left_over_parts[-1]] == 1: # model\n",
    "            model = left_over_parts.pop(-1) + \" \" + model\n",
    "        else: # series\n",
    "            if series != \"\":\n",
    "                series += \" \" + left_over_parts.pop(0)\n",
    "            else:\n",
    "                series = left_over_parts.pop(0)\n",
    "    if manufacturer not in panel_database:\n",
    "        panel_database[manufacturer] = {}\n",
    "    if series not in panel_database[manufacturer]:\n",
    "        panel_database[manufacturer][series] = {}\n",
    "    panel_database[manufacturer][series][model] = modules[\"_\".join(name_split)].to_dict()"
   ],
   "metadata": {
    "collapsed": false,
    "ExecuteTime": {
     "end_time": "2023-10-22T15:31:04.871428900Z",
     "start_time": "2023-10-22T15:31:03.913312300Z"
    }
   },
   "id": "6ee4ce4ee0930d53"
  },
  {
   "cell_type": "code",
   "execution_count": 26,
   "outputs": [
    {
     "data": {
      "text/plain": "{'Technology': 'Mono-c-Si',\n 'Bifacial': 0,\n 'STC': 370.116,\n 'PTC': 343.9,\n 'A_c': 1.63,\n 'Length': nan,\n 'Width': nan,\n 'N_s': 96,\n 'I_sc_ref': 6.6,\n 'V_oc_ref': 70.1,\n 'I_mp_ref': 6.21,\n 'V_mp_ref': 59.6,\n 'alpha_sc': 0.002297,\n 'beta_oc': -0.199925,\n 'T_NOCT': 46.84,\n 'a_ref': 2.630367,\n 'I_L_ref': 6.604403,\n 'I_o_ref': 1.726423e-11,\n 'R_s': 0.360284,\n 'R_sh_ref': 539.995911,\n 'Adjust': 3.030361,\n 'gamma_r': -0.3509,\n 'BIPV': 'N',\n 'Version': 'SAM 2018.11.11 r2',\n 'Date': '1/3/2019'}"
     },
     "execution_count": 26,
     "metadata": {},
     "output_type": "execute_result"
    }
   ],
   "source": [
    "panel_database[\"SunPower SPR\"][\"X22\"][\"370\"]"
   ],
   "metadata": {
    "collapsed": false,
    "ExecuteTime": {
     "end_time": "2023-10-22T15:31:05.497097700Z",
     "start_time": "2023-10-22T15:31:05.489868Z"
    }
   },
   "id": "68b560e333c58aca"
  },
  {
   "cell_type": "code",
   "execution_count": 27,
   "outputs": [],
   "source": [
    "with open(\"G:/projects/solar-power-estimator/data/panel_database.json\", \"w\") as f:\n",
    "    json.dump(panel_database, f)"
   ],
   "metadata": {
    "collapsed": false,
    "ExecuteTime": {
     "end_time": "2023-10-22T15:31:08.099003900Z",
     "start_time": "2023-10-22T15:31:06.276545700Z"
    }
   },
   "id": "a901483d655e4f8f"
  },
  {
   "cell_type": "code",
   "execution_count": null,
   "outputs": [],
   "source": [],
   "metadata": {
    "collapsed": false
   },
   "id": "49cd2b2eab0ef01"
  }
 ],
 "metadata": {
  "kernelspec": {
   "display_name": "Python 3",
   "language": "python",
   "name": "python3"
  },
  "language_info": {
   "codemirror_mode": {
    "name": "ipython",
    "version": 2
   },
   "file_extension": ".py",
   "mimetype": "text/x-python",
   "name": "python",
   "nbconvert_exporter": "python",
   "pygments_lexer": "ipython2",
   "version": "2.7.6"
  }
 },
 "nbformat": 4,
 "nbformat_minor": 5
}
